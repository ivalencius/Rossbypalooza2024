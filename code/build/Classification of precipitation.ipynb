{
 "cells": [
  {
   "cell_type": "code",
   "execution_count": 1,
   "metadata": {},
   "outputs": [
    {
     "ename": "ModuleNotFoundError",
     "evalue": "No module named 'zarr'",
     "output_type": "error",
     "traceback": [
      "\u001b[0;31m---------------------------------------------------------------------------\u001b[0m",
      "\u001b[0;31mModuleNotFoundError\u001b[0m                       Traceback (most recent call last)",
      "Cell \u001b[0;32mIn[1], line 6\u001b[0m\n\u001b[1;32m      4\u001b[0m \u001b[38;5;28;01mimport\u001b[39;00m \u001b[38;5;21;01mmetpy\u001b[39;00m\u001b[38;5;21;01m.\u001b[39;00m\u001b[38;5;21;01mcalc\u001b[39;00m \u001b[38;5;28;01mas\u001b[39;00m \u001b[38;5;21;01mmpcalc\u001b[39;00m\n\u001b[1;32m      5\u001b[0m \u001b[38;5;28;01mimport\u001b[39;00m \u001b[38;5;21;01mmatplotlib\u001b[39;00m\u001b[38;5;21;01m.\u001b[39;00m\u001b[38;5;21;01mpyplot\u001b[39;00m \u001b[38;5;28;01mas\u001b[39;00m \u001b[38;5;21;01mplt\u001b[39;00m\n\u001b[0;32m----> 6\u001b[0m \u001b[38;5;28;01mimport\u001b[39;00m \u001b[38;5;21;01mzarr\u001b[39;00m\n\u001b[1;32m      7\u001b[0m \u001b[38;5;28;01mimport\u001b[39;00m \u001b[38;5;21;01mcmaps\u001b[39;00m\n",
      "\u001b[0;31mModuleNotFoundError\u001b[0m: No module named 'zarr'"
     ]
    }
   ],
   "source": [
    "import numpy as np\n",
    "import xarray as xr\n",
    "import metpy\n",
    "import metpy.calc as mpcalc\n",
    "import matplotlib.pyplot as plt\n",
    "import zarr\n",
    "import cmaps"
   ]
  },
  {
   "cell_type": "markdown",
   "metadata": {},
   "source": [
    "# 1. Identifying TC-induced precipitation (Kunkel et al. 2010, GRL)\n",
    "\n",
    "- **Identication of TC-induced precipitation** Re: \"A heavy precipitation event was considered to be associated with a TC if the track of 5° (latitude and/or longitude; approximately 500 km) radius of the location of the event on the same day.\"\n",
    "\n",
    "- **Why this standard?** Re: The vast majority of TC are smaller than 500 km --> a 5°search radius should be large enough\n",
    "\n",
    "- **Confirmation of TC-induced precipitation** Re: A rough correspondence between the TC-induced precipitation index and the number of landfalling TC.\n",
    "\n"
   ]
  },
  {
   "cell_type": "markdown",
   "metadata": {},
   "source": [
    "## 1.1 Derivation of TC tracks"
   ]
  },
  {
   "cell_type": "code",
   "execution_count": 9,
   "metadata": {},
   "outputs": [
    {
     "name": "stderr",
     "output_type": "stream",
     "text": [
      "/Users/ilanvalencius/anaconda3/envs/xcdat/lib/python3.11/site-packages/xarray/coding/times.py:254: RuntimeWarning: invalid value encountered in cast\n",
      "  flat_num_dates_ns_int = (flat_num_dates * _NS_PER_TIME_DELTA[delta]).astype(\n",
      "/Users/ilanvalencius/anaconda3/envs/xcdat/lib/python3.11/site-packages/xarray/coding/times.py:254: RuntimeWarning: invalid value encountered in cast\n",
      "  flat_num_dates_ns_int = (flat_num_dates * _NS_PER_TIME_DELTA[delta]).astype(\n"
     ]
    },
    {
     "data": {
      "text/plain": [
       "<matplotlib.collections.QuadMesh at 0x29a928c90>"
      ]
     },
     "execution_count": 9,
     "metadata": {},
     "output_type": "execute_result"
    },
    {
     "data": {
      "image/png": "[encoded data removed]",
      "text/plain": [
       "<Figure size 640x480 with 2 Axes>"
      ]
     },
     "metadata": {},
     "output_type": "display_data"
    }
   ],
   "source": [
    "ds = xr.open_dataset('../../data/IBTrACS.since1980.v04r01.nc')"
   ]
  },
  {
   "cell_type": "code",
   "execution_count": null,
   "metadata": {},
   "outputs": [
    {
     "name": "stdout",
     "output_type": "stream",
     "text": [
      "TC_time is over !!!\n",
      "TC_lat is over !!!\n",
      "TC_lon is over !!!\n"
     ]
    }
   ],
   "source": [
    "'''\n",
    "Read the TC tracks data\n",
    "'''\n",
    "# Shape of the data: (storm:4724, date_time: 360)\n",
    "ds = xr.open_dataset('../../data/IDENTIFYING-TCs/IBTrACS.since1980.v04r01.nc')\n",
    "TC_time = ds['time']\n",
    "TC_lat = ds['lat']\n",
    "TC_lon = ds['lon']\n",
    "\n",
    "\n",
    "# Concatenate all data\n",
    "TC_time_all = []\n",
    "for i,each in enumerate(TC_time['storm']):\n",
    "    TC_time_all.append(TC_time[i,:].dropna(dim='date_time').values)\n",
    "TC_time_all = np.concatenate(TC_time_all).astype('datetime64[s]')       # Remove ns time\n",
    "print('TC_time is over !!!')\n",
    "\n",
    "\n",
    "# Concatenate all data\n",
    "TC_lat_all = []\n",
    "for i,each in enumerate(TC_lat['storm']):\n",
    "    TC_lat_all.append(TC_lat[i,:].dropna(dim='date_time').values)\n",
    "TC_lat_all = np.concatenate(TC_lat_all)\n",
    "print('TC_lat is over !!!')\n",
    "\n",
    "\n",
    "# Concatenate all data\n",
    "TC_lon_all = []\n",
    "for i,each in enumerate(TC_lon['storm']):\n",
    "    TC_lon_all.append(TC_lon[i,:].dropna(dim='date_time').values)\n",
    "TC_lon_all = np.concatenate(TC_lon_all)\n",
    "TC_lon_all = np.where(TC_lon_all<0, TC_lon_all+360, TC_lon_all)        # Transform negative longitude --> > 180 longitude\n",
    "print('TC_lon is over !!!') \n"
   ]
  },
  {
   "cell_type": "code",
   "execution_count": 57,
   "metadata": {},
   "outputs": [
    {
     "name": "stdout",
     "output_type": "stream",
     "text": [
      "['1980-01-01T00:00:00' '1980-01-01T03:00:00' '1980-01-01T06:00:00'\n",
      " '1980-01-01T09:00:00' '1980-01-01T12:00:00' '1980-01-01T15:00:00'\n",
      " '1980-01-01T18:00:00' '1980-01-01T21:00:00' '1980-01-01T12:00:00'\n",
      " '1980-01-01T15:00:00' '1980-01-01T18:00:00' '1980-01-01T21:00:00']\n",
      "[-12.5 -12.2 -11.9 -11.7 -11.5 -11.3 -11.2 -11.2 -15.2 -15.  -14.8 -14.4]\n",
      "[172.5 172.4 172.4 172.4 172.5 172.6 172.7 172.9  80.5  80.3  80.2  80.1]\n"
     ]
    }
   ],
   "source": [
    "mask = (TC_time_all >= np.datetime64('1980-01-01T00:00:00')) & (TC_time_all < np.datetime64('1980-01-02T00:00:00'))\n",
    "print(TC_time_all[mask])\n",
    "print(TC_lat_all[mask])\n",
    "print(TC_lon_all[mask])\n"
   ]
  },
  {
   "cell_type": "code",
   "execution_count": null,
   "metadata": {},
   "outputs": [],
   "source": []
  },
  {
   "cell_type": "code",
   "execution_count": null,
   "metadata": {},
   "outputs": [],
   "source": []
  },
  {
   "cell_type": "code",
   "execution_count": 48,
   "metadata": {},
   "outputs": [],
   "source": [
    "## -------------------------------- Construct TC_activity array -------------------------------- ##\n",
    "# Dimension-1: time\n",
    "start_time = np.datetime64('1980-01-01T00:00:00')\n",
    "end_time = np.datetime64('2024-07-31T23:59:59')\n",
    "time_interval = np.timedelta64(3, 'h')\n",
    "dim_time = np.arange(start_time, end_time, time_interval)\n",
    "\n",
    "# Dimension-2: latitude\n",
    "dim_lat = np.linspace(90,-90, 181, dtype=float)\n",
    "\n",
    "# Dimension-2: latitude\n",
    "dim_lon = np.linspace(0,360,361, dtype=float)\n",
    "\n",
    "# Construct TC_activity array\n",
    "TC_activity = xr.DataArray(np.zeros((len(dim_time), len(dim_lat), len(dim_lon)), dtype=int),\n",
    "                           dims = ['time', 'longitude', 'latitude'],\n",
    "                           coords = [dim_time, dim_lat, dim_lon])\n"
   ]
  },
  {
   "cell_type": "code",
   "execution_count": null,
   "metadata": {},
   "outputs": [],
   "source": []
  },
  {
   "cell_type": "code",
   "execution_count": null,
   "metadata": {},
   "outputs": [],
   "source": []
  },
  {
   "cell_type": "markdown",
   "metadata": {},
   "source": [
    "# 2. Identifying fronts-induced precipitation (Catto et al. 2012, GRL)\n",
    "\n",
    "- **Identification of fronts (Hewson 1998; Berry et al. 2011)** Re: Thermal front parameter (TFP), identifying front locations where the gradient of wet bulb potential temperature is a maximum in the direction of the moist isentropes. Also, classifying the front into cold, warm or quasi-stationary.\n",
    "\n",
    "- **Identification of fronts-induced precipitation** Re: If the daily precipitation at a gridpoint is greater than zero, a surrounding box of 5° size is searched for the existence of a front. If a front occurs in the box at any of the four reanalysis time points within that day, then the precipitation is allocated to the front."
   ]
  },
  {
   "cell_type": "code",
   "execution_count": 82,
   "metadata": {},
   "outputs": [
    {
     "name": "stderr",
     "output_type": "stream",
     "text": [
      "2024-07-25 10:39:39,317 INFO Welcome to the CDS\n",
      "2024-07-25 10:39:39,319 INFO Sending request to https://cds.climate.copernicus.eu/api/v2/resources/reanalysis-era5-pressure-levels\n",
      "2024-07-25 10:39:39,649 INFO Request is queued\n",
      "2024-07-25 10:39:40,786 INFO Request is running\n",
      "2024-07-25 10:39:48,499 INFO Request is completed\n",
      "2024-07-25 10:39:48,502 INFO Downloading https://download-0014-clone.copernicus-climate.eu/cache-compute-0014/cache/data0/adaptor.mars.internal-1721921983.4928823-25554-19-e2a0d7ae-8a0b-44f8-90c1-195f5b408c17.nc to ./test-front_data.nc (95.1M)\n",
      "2024-07-25 10:40:59,458 INFO Download rate 1.3M/s   \n"
     ]
    },
    {
     "data": {
      "text/plain": [
       "Result(content_length=99681552,content_type=application/x-netcdf,location=https://download-0014-clone.copernicus-climate.eu/cache-compute-0014/cache/data0/adaptor.mars.internal-1721921983.4928823-25554-19-e2a0d7ae-8a0b-44f8-90c1-195f5b408c17.nc)"
      ]
     },
     "execution_count": 82,
     "metadata": {},
     "output_type": "execute_result"
    }
   ],
   "source": [
    "'''\n",
    "Download the data for testing\n",
    "'''\n",
    "import cdsapi\n",
    "\n",
    "c = cdsapi.Client()\n",
    "\n",
    "c.retrieve(\n",
    "    'reanalysis-era5-pressure-levels',\n",
    "    {\n",
    "        'product_type': 'reanalysis',\n",
    "        'format': 'netcdf',\n",
    "        'variable': [\n",
    "            'temperature', 'u_component_of_wind', 'v_component_of_wind',\n",
    "        ],\n",
    "        'pressure_level': [\n",
    "            '600', '900',\n",
    "        ],\n",
    "        'year': '2020',\n",
    "        'month': '06',\n",
    "        'day': [\n",
    "            '01', '02', \n",
    "        ],\n",
    "        'time': [\n",
    "            '00:00', '06:00', '12:00',\n",
    "            '18:00',\n",
    "        ],\n",
    "    },\n",
    "    './test-front_data.nc')\n",
    "\n",
    "\n"
   ]
  },
  {
   "cell_type": "code",
   "execution_count": 195,
   "metadata": {},
   "outputs": [
    {
     "name": "stderr",
     "output_type": "stream",
     "text": [
      "/opt/anaconda3/lib/python3.8/site-packages/pint/quantity.py:1313: RuntimeWarning: invalid value encountered in true_divide\n",
      "  magnitude = magnitude_op(new_self._magnitude, other._magnitude)\n"
     ]
    }
   ],
   "source": [
    "'''\n",
    "Calcultate the front variable F, following Parfitt et al. 2017, GRL.\n",
    "'''\n",
    "def cancel_unit(relative_vorticity_600hPa):\n",
    "    relative_vorticity_600hPa_without_unit = xr.DataArray(relative_vorticity_600hPa.values, coords=relative_vorticity_600hPa.coords, dims=relative_vorticity_600hPa.dims)    # Cancel the unit in Xarray\n",
    "    return relative_vorticity_600hPa_without_unit\n",
    "\n",
    "# Read the data\n",
    "ds = xr.open_dataset('./test-front_data.nc')\n",
    "temp_600hPa = ds['t'].sel(level=600)\n",
    "u_600hPa = ds['u'].sel(level=600)\n",
    "v_600hPa = ds['v'].sel(level=600)\n",
    "\n",
    "# Calculate the gradient of temperature\n",
    "dtemp_dt_600hPa, dtemp_dy_600hPa, dtemp_dx_600hPa = mpcalc.gradient(temp_600hPa)    # unit:K*s^-1, K*m^-1, K*m^-1\n",
    "dtemp_dt_600hPa = cancel_unit(dtemp_dt_600hPa)\n",
    "dtemp_dy_600hPa = cancel_unit(dtemp_dy_600hPa)\n",
    "dtemp_dx_600hPa = cancel_unit(dtemp_dx_600hPa)\n",
    "absolute_HorizGrad_temp = np.hypot(dtemp_dx_600hPa, dtemp_dy_600hPa)                # Absolute of the horizontal gradient of temperature\n",
    "\n",
    "# Calculate the relative vorticity\n",
    "relative_vorticity_600hPa = mpcalc.vorticity(u_600hPa, v_600hPa)                    # unit: s^-1\n",
    "relative_vorticity_600hPa = cancel_unit(relative_vorticity_600hPa)\n",
    "\n",
    "# F* in Parfitt et al. 2017, GRL\n",
    "F_star = relative_vorticity_600hPa * absolute_HorizGrad_temp.values\n",
    "\n",
    "# F in Parfitt et al. 2017, GRL\n",
    "absolute_HorizGrad_temp_scale = 0.45 / 100000                                       # 0.45 K / (100 km)   \n",
    "f = 2 * metpy.constants.earth_avg_angular_vel.magnitude * np.sin(np.deg2rad(temp_600hPa['latitude']))\n",
    "F = F_star / (f*absolute_HorizGrad_temp_scale)        \n"
   ]
  },
  {
   "cell_type": "code",
   "execution_count": null,
   "metadata": {},
   "outputs": [],
   "source": []
  },
  {
   "cell_type": "code",
   "execution_count": null,
   "metadata": {},
   "outputs": [],
   "source": []
  },
  {
   "cell_type": "markdown",
   "metadata": {},
   "source": [
    "# 3. Identifying thunderstorms-induced precipitation (no ref)\n",
    "\n",
    "- **Identification of thunderstorms-induced precipitation** Re: CAPE"
   ]
  },
  {
   "cell_type": "markdown",
   "metadata": {},
   "source": [
    "# 4. Identifying  monsoon-induced precipitation (Cavazos et al. 2008, GRL)\n",
    "\n",
    "- **Identification of monsoon-induced precipitation** Precipitation in summertime are classified into TC-induced and monsoon-induced (non-TC)."
   ]
  }
 ],
 "metadata": {
  "kernelspec": {
   "display_name": "Python 3",
   "language": "python",
   "name": "python3"
  },
  "language_info": {
   "codemirror_mode": {
    "name": "ipython",
    "version": 3
   },
   "file_extension": ".py",
   "mimetype": "text/x-python",
   "name": "python",
   "nbconvert_exporter": "python",
   "pygments_lexer": "ipython3",
   "version": "3.11.5"
  }
 },
 "nbformat": 4,
 "nbformat_minor": 2
}
