{
 "cells": [
  {
   "cell_type": "markdown",
   "metadata": {},
   "source": [
    "# Detecting Extreme Precipitation Events"
   ]
  },
  {
   "cell_type": "code",
   "execution_count": null,
   "metadata": {},
   "outputs": [],
   "source": [
    "from glob import glob\n",
    "import xarray as xr\n",
    "# Cosmetic options\n",
    "from rich import print\n",
    "%load_ext rich\n",
    "\n",
    "BASE_PATH = '/scratch/midway3/nnn/'"
   ]
  },
  {
   "cell_type": "code",
   "execution_count": null,
   "metadata": {},
   "outputs": [],
   "source": [
    "ds_cp = xr.open_mfdataset(f'{BASE_PATH}*_cp.nc')\n",
    "ds_cape = xr.open_mfdataset(f'{BASE_PATH}*_cape.nc')\n",
    "ds_lsp = xr.open_mfdataset(f'{BASE_PATH}*_lsp.nc')"
   ]
  }
 ],
 "metadata": {
  "language_info": {
   "name": "python"
  }
 },
 "nbformat": 4,
 "nbformat_minor": 2
}
